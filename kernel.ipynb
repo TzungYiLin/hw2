{
 "cells": [
  {
   "cell_type": "markdown",
   "metadata": {},
   "source": [
    "<font size = 5, font color='blue'>1.Top-10 reviewer"
   ]
  },
  {
   "cell_type": "code",
   "execution_count": 260,
   "metadata": {
    "_cell_guid": "b1076dfc-b9ad-4769-8c92-a6c4dae69d19",
    "_uuid": "8f2839f25d086af736a60e9eeb907d3b93b6e0e5",
    "scrolled": true
   },
   "outputs": [],
   "source": [
    "import numpy as np \n",
    "import scipy as sp \n",
    "import pandas as pd \n",
    "\n",
    "\n",
    "import matplotlib.pyplot as plt\n",
    "import seaborn as sns\n",
    "\n",
    "\n",
    "import nltk\n",
    "\n",
    "import os"
   ]
  },
  {
   "cell_type": "code",
   "execution_count": 261,
   "metadata": {
    "_cell_guid": "79c7e3d0-c299-4dcb-8224-4455121ee9b0",
    "_uuid": "d629ff2d2480ee46fbb7e2d37f6b5fab8052498a",
    "scrolled": true
   },
   "outputs": [],
   "source": [
    "data_path = \"Reviews.csv\"\n",
    "\n",
    "pd_data = pd.read_csv(data_path)"
   ]
  },
  {
   "cell_type": "code",
   "execution_count": 262,
   "metadata": {
    "_uuid": "397f6515495b6c9541191837ac4901d9affe4817",
    "scrolled": true
   },
   "outputs": [],
   "source": [
    "df=pd_data[:10000]"
   ]
  },
  {
   "cell_type": "code",
   "execution_count": 263,
   "metadata": {},
   "outputs": [],
   "source": [
    "df=df.loc[:,['UserId','ProfileName','Score']]\n",
    "df.insert(3,column='Score count',value=0)\n",
    "df['Score count']=df.groupby(df['UserId']).transform('count')\n",
    "result1=df.groupby(['UserId','ProfileName','Score count'],as_index=False)['Score'].agg({'Score mean':'sum'})"
   ]
  },
  {
   "cell_type": "code",
   "execution_count": 264,
   "metadata": {
    "scrolled": true
   },
   "outputs": [
    {
     "data": {
      "text/html": [
       "<div>\n",
       "<style scoped>\n",
       "    .dataframe tbody tr th:only-of-type {\n",
       "        vertical-align: middle;\n",
       "    }\n",
       "\n",
       "    .dataframe tbody tr th {\n",
       "        vertical-align: top;\n",
       "    }\n",
       "\n",
       "    .dataframe thead th {\n",
       "        text-align: right;\n",
       "    }\n",
       "</style>\n",
       "<table border=\"1\" class=\"dataframe\">\n",
       "  <thead>\n",
       "    <tr style=\"text-align: right;\">\n",
       "      <th></th>\n",
       "      <th>UserId</th>\n",
       "      <th>ProfileName</th>\n",
       "      <th>Score count</th>\n",
       "      <th>Score mean</th>\n",
       "    </tr>\n",
       "  </thead>\n",
       "  <tbody>\n",
       "    <tr>\n",
       "      <th>2330</th>\n",
       "      <td>A1Z54EM24Y40LL</td>\n",
       "      <td>c2</td>\n",
       "      <td>17</td>\n",
       "      <td>3.882353</td>\n",
       "    </tr>\n",
       "    <tr>\n",
       "      <th>4286</th>\n",
       "      <td>A2SZLNSI5KOQJT</td>\n",
       "      <td>Carrie, \"Formerly &amp;#34;Sister Carrie&amp;#34;\"</td>\n",
       "      <td>10</td>\n",
       "      <td>3.800000</td>\n",
       "    </tr>\n",
       "    <tr>\n",
       "      <th>5169</th>\n",
       "      <td>A35R32TA60XD57</td>\n",
       "      <td>M. Torma</td>\n",
       "      <td>9</td>\n",
       "      <td>4.111111</td>\n",
       "    </tr>\n",
       "    <tr>\n",
       "      <th>2919</th>\n",
       "      <td>A281NPSIMI1C2R</td>\n",
       "      <td>Rebecca of Amazon \"The Rebecca Review\"</td>\n",
       "      <td>8</td>\n",
       "      <td>5.000000</td>\n",
       "    </tr>\n",
       "    <tr>\n",
       "      <th>6442</th>\n",
       "      <td>A3OXHLG6DIBRW8</td>\n",
       "      <td>C. F. Hill \"CFH\"</td>\n",
       "      <td>7</td>\n",
       "      <td>4.428571</td>\n",
       "    </tr>\n",
       "    <tr>\n",
       "      <th>6330</th>\n",
       "      <td>A3NHUQ33CFH3VM</td>\n",
       "      <td>Citizen John</td>\n",
       "      <td>7</td>\n",
       "      <td>3.142857</td>\n",
       "    </tr>\n",
       "    <tr>\n",
       "      <th>6493</th>\n",
       "      <td>A3PJZ8TU8FDQ1K</td>\n",
       "      <td>Jared Castle</td>\n",
       "      <td>7</td>\n",
       "      <td>4.714286</td>\n",
       "    </tr>\n",
       "    <tr>\n",
       "      <th>8390</th>\n",
       "      <td>AQ6SHOW0VMZGF</td>\n",
       "      <td>K. Padgett \"familyof5\"</td>\n",
       "      <td>6</td>\n",
       "      <td>2.666667</td>\n",
       "    </tr>\n",
       "    <tr>\n",
       "      <th>2826</th>\n",
       "      <td>A26NFIQ7KWI8Y7</td>\n",
       "      <td>kt rose</td>\n",
       "      <td>6</td>\n",
       "      <td>2.666667</td>\n",
       "    </tr>\n",
       "    <tr>\n",
       "      <th>31</th>\n",
       "      <td>A10H24TDLK2VDP</td>\n",
       "      <td>William Jens Jensen</td>\n",
       "      <td>6</td>\n",
       "      <td>3.000000</td>\n",
       "    </tr>\n",
       "  </tbody>\n",
       "</table>\n",
       "</div>"
      ],
      "text/plain": [
       "              UserId                                 ProfileName  Score count  \\\n",
       "2330  A1Z54EM24Y40LL                                          c2           17   \n",
       "4286  A2SZLNSI5KOQJT  Carrie, \"Formerly &#34;Sister Carrie&#34;\"           10   \n",
       "5169  A35R32TA60XD57                                    M. Torma            9   \n",
       "2919  A281NPSIMI1C2R      Rebecca of Amazon \"The Rebecca Review\"            8   \n",
       "6442  A3OXHLG6DIBRW8                            C. F. Hill \"CFH\"            7   \n",
       "6330  A3NHUQ33CFH3VM                                Citizen John            7   \n",
       "6493  A3PJZ8TU8FDQ1K                                Jared Castle            7   \n",
       "8390   AQ6SHOW0VMZGF                      K. Padgett \"familyof5\"            6   \n",
       "2826  A26NFIQ7KWI8Y7                                     kt rose            6   \n",
       "31    A10H24TDLK2VDP                         William Jens Jensen            6   \n",
       "\n",
       "      Score mean  \n",
       "2330    3.882353  \n",
       "4286    3.800000  \n",
       "5169    4.111111  \n",
       "2919    5.000000  \n",
       "6442    4.428571  \n",
       "6330    3.142857  \n",
       "6493    4.714286  \n",
       "8390    2.666667  \n",
       "2826    2.666667  \n",
       "31      3.000000  "
      ]
     },
     "execution_count": 264,
     "metadata": {},
     "output_type": "execute_result"
    }
   ],
   "source": [
    "result1['Score mean']=result1['Score mean'] / result1['Score count']\n",
    "result1=result1.sort_values(by='Score count',ascending=0)[:10]\n",
    "result1"
   ]
  },
  {
   "cell_type": "markdown",
   "metadata": {},
   "source": [
    "<font size = 5, font color='blue'>2.Plot score distribution for the user with the most number of reviews"
   ]
  },
  {
   "cell_type": "code",
   "execution_count": 265,
   "metadata": {
    "_uuid": "eda052aa9f852f2344fd20e824d9b31fdb82ce8c",
    "scrolled": true
   },
   "outputs": [],
   "source": [
    "df=df.sort_values(by='Score count',ascending=0)\n",
    "count=result1['Score count'][2330]\n",
    "df_1=df[:count]\n",
    "df_1.index=range(len(df_1))"
   ]
  },
  {
   "cell_type": "code",
   "execution_count": 266,
   "metadata": {},
   "outputs": [
    {
     "data": {
      "image/png": "[encoded data removed]",
      "text/plain": [
       "<Figure size 432x288 with 1 Axes>"
      ]
     },
     "metadata": {
      "needs_background": "light"
     },
     "output_type": "display_data"
    }
   ],
   "source": [
    "scorebest=df_1['Score']\n",
    "x=np.array([1,2,3,4,5])\n",
    "y=np.array([0,0,0,0,0])\n",
    "for m in scorebest:\n",
    "    for n in range(5):\n",
    "        if(m==n+1):\n",
    "            y[n]+=1\n",
    "plt.bar(x[0],y[0],color='blue')\n",
    "plt.bar(x[1],y[1],color='orange')\n",
    "plt.bar(x[2],y[2],color='green')\n",
    "plt.bar(x[3],y[3],color='red')\n",
    "plt.bar(x[4],y[4],color='mediumPurple')\n",
    "plt.title('Score distribution for the user with the most number of reviews .')\n",
    "plt.show()"
   ]
  },
  {
   "cell_type": "markdown",
   "metadata": {},
   "source": [
    "<font size = 5, font color='blue'>3. Plot pandas Series DataFrame (Time->Date)"
   ]
  },
  {
   "cell_type": "code",
   "execution_count": 271,
   "metadata": {
    "scrolled": true
   },
   "outputs": [
    {
     "data": {
      "image/png": "[encoded data removed]",
      "text/plain": [
       "<Figure size 432x288 with 1 Axes>"
      ]
     },
     "metadata": {
      "needs_background": "light"
     },
     "output_type": "display_data"
    }
   ],
   "source": [
    "import time\n",
    "\n",
    "year=[]\n",
    "for m in pd_data['Time'][:10000]:\n",
    "    year.append(time.localtime(m).tm_year)\n",
    "year_max=max(year)\n",
    "year_min=min(year)\n",
    "x=range(year_min,year_max+1)\n",
    "y=np.linspace(0,0,len(x))\n",
    "for m in year:\n",
    "    for n in range(13):\n",
    "        if(m==n+2000):\n",
    "            y[n]+=1\n",
    "plt.bar(x,y)\n",
    "plt.title('Review count by year')\n",
    "plt.xlabel('Review year')\n",
    "plt.ylabel('Review count')\n",
    "plt.show()"
   ]
  },
  {
   "cell_type": "markdown",
   "metadata": {},
   "source": [
    "<font size = 5, font color='blue'>4. Plot HeatMap using seaborn"
   ]
  },
  {
   "cell_type": "code",
   "execution_count": 278,
   "metadata": {},
   "outputs": [
    {
     "data": {
      "text/plain": [
       "<matplotlib.axes._subplots.AxesSubplot at 0x58dc020358>"
      ]
     },
     "execution_count": 278,
     "metadata": {},
     "output_type": "execute_result"
    },
    {
     "data": {
      "image/png": "[encoded data removed]",
      "text/plain": [
       "<Figure size 432x288 with 2 Axes>"
      ]
     },
     "metadata": {
      "needs_background": "light"
     },
     "output_type": "display_data"
    }
   ],
   "source": [
    "df=pd_data[:10000]\n",
    "sns.heatmap(df.corr(),annot=True)"
   ]
  },
  {
   "cell_type": "markdown",
   "metadata": {},
   "source": [
    "<font size = 5, font color='blue'>5. Helpful percent"
   ]
  },
  {
   "cell_type": "code",
   "execution_count": 280,
   "metadata": {},
   "outputs": [],
   "source": [
    "df=pd_data[:10000]"
   ]
  },
  {
   "cell_type": "code",
   "execution_count": 285,
   "metadata": {},
   "outputs": [],
   "source": [
    "count=df['HelpfulnessNumerator'].count()\n",
    "ratio=[]\n",
    "for m in range(count):\n",
    "    if(df['HelpfulnessNumerator'][m]>df['HelpfulnessDenominator'][m]):\n",
    "        continue\n",
    "    elif (df['HelpfulnessNumerator'][m]==df['HelpfulnessDenominator'][m]==0):\n",
    "        ratio.append(-1)\n",
    "    else:\n",
    "        ratio.append(df['HelpfulnessNumerator'][m]/df['HelpfulnessDenominator'][m])"
   ]
  },
  {
   "cell_type": "code",
   "execution_count": 287,
   "metadata": {},
   "outputs": [
    {
     "data": {
      "image/png": "[encoded data removed]",
      "text/plain": [
       "<Figure size 432x288 with 1 Axes>"
      ]
     },
     "metadata": {
      "needs_background": "light"
     },
     "output_type": "display_data"
    }
   ],
   "source": [
    "plt.hist(ratio,bins=10)\n",
    "plt.grid()"
   ]
  }
 ],
 "metadata": {
  "kernelspec": {
   "display_name": "Python 3",
   "language": "python",
   "name": "python3"
  },
  "language_info": {
   "codemirror_mode": {
    "name": "ipython",
    "version": 3
   },
   "file_extension": ".py",
   "mimetype": "text/x-python",
   "name": "python",
   "nbconvert_exporter": "python",
   "pygments_lexer": "ipython3",
   "version": "3.7.3"
  }
 },
 "nbformat": 4,
 "nbformat_minor": 1
}
